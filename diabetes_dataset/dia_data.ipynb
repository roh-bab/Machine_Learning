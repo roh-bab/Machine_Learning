{
 "cells": [
  {
   "cell_type": "code",
   "execution_count": null,
   "metadata": {},
   "outputs": [],
   "source": [
    "import numpy as np  \n",
    "from sklearn.linear_model import LinearRegression\n",
    "import matplotlib.pyplot as plt\n",
    "\n",
    "data = np.genfromtxt(\"0000000000002329_training_diabetes_x_y_train.csv\",delimiter=',')\n",
    "#data.shape\n",
    "x_train = data[:,0:10] #take all the rows and 0 - 10 columns\n",
    "y_train = data[:,-1].reshape(-1,1) #take all the rows and the last colums\n",
    "#x_train.shape,y_train.shape\n",
    "alg1 = LinearRegression()\n",
    "alg1.fit(x_train,y_train)   # fit the data into the model\n",
    "\n",
    "x_test_data = np.genfromtxt(\"0000000000002329_test_diabetes_x_test.csv\",delimiter=',')\n",
    "#x_test_data.shape\n",
    "y_pred = alg1.predict(x_test_data)  #predict the y for test\n",
    "y_pred = np.around(y_pred,5)        # rounding to 5 decimal places\n",
    "#y_pred.shape\n",
    "\n",
    "np.savetxt(\"prediction.csv\",y_pred,delimiter=',')\n"
   ]
  }
 ],
 "metadata": {
  "kernelspec": {
   "display_name": "Python 3",
   "language": "python",
   "name": "python3"
  },
  "language_info": {
   "codemirror_mode": {
    "name": "ipython",
    "version": 3
   },
   "file_extension": ".py",
   "mimetype": "text/x-python",
   "name": "python",
   "nbconvert_exporter": "python",
   "pygments_lexer": "ipython3",
   "version": "3.12.4"
  }
 },
 "nbformat": 4,
 "nbformat_minor": 2
}
